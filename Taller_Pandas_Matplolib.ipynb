{
  "cells": [
    {
      "cell_type": "markdown",
      "metadata": {
        "id": "view-in-github",
        "colab_type": "text"
      },
      "source": [
        "<a href=\"https://colab.research.google.com/github/edelgado-1975/PythonSenaOK/blob/main/Taller_Pandas_Matplolib.ipynb\" target=\"_parent\"><img src=\"https://colab.research.google.com/assets/colab-badge.svg\" alt=\"Open In Colab\"/></a>"
      ]
    },
    {
      "cell_type": "markdown",
      "metadata": {
        "id": "VFhoRnr9q93O"
      },
      "source": [
        "TALLER DE PANDAS + MATPLOID\n",
        "\n",
        "Crear el DataFrame: Con datos de futbolistas, incluyendo nombre, apellido, liga, salario, temporada y goles.\n",
        "Análisis de Datos:\n",
        "\n",
        "1.Jugador que más goles efectuó.\n",
        "2.Tres primeros jugadores por temporada.\n",
        "3.Ranking de jugadores ordenados por goles.\n",
        "4.Visualización de Datos:\n",
        "5.Gráfico de barras: Goles por jugador.\n",
        "6.Gráfico de caja (boxplot): Distribución de goles por temporada.\n",
        "7.Gráfico de dispersión: Relación entre salario y goles."
      ]
    },
    {
      "cell_type": "code",
      "execution_count": null,
      "metadata": {
        "id": "o-r34Tm1q93T"
      },
      "outputs": [],
      "source": [
        "\"\"\"Paso 1: Crear el DataFrame\n",
        "Primero, vamos a crear un DataFrame con datos de futbolistas.\"\"\"\n",
        "import pandas as pd\n",
        "\n",
        "# Crear el DataFrame\n",
        "data = {\n",
        "    'Nombre': ['Lionel', 'Cristiano', 'Neymar', 'Kylian', 'Robert', 'Kevin', 'Virgil', 'Sergio', 'Eden', 'Mohamed'],\n",
        "    'Apellido': ['Messi', 'Ronaldo', 'Neymar', 'Mbappe', 'Lewandowski', 'De Bruyne', 'Van Dijk', 'Ramos', 'Hazard', 'Salah'],\n",
        "    'Liga': ['La Liga', 'Serie A', 'Ligue 1', 'Ligue 1', 'Bundesliga', 'Premier League', 'Premier League', 'La Liga', 'La Liga', 'Premier League'],\n",
        "    'Salario': [65000000, 54000000, 36000000, 35000000, 45000000, 33000000, 25000000, 30000000, 25000000, 20000000],\n",
        "    'Temporada': [2022, 2022, 2022, 2022, 2022, 2022, 2022, 2022, 2022, 2022],\n",
        "    'Goles': [30, 28, 22, 25, 35, 18, 12, 15, 10, 20]\n",
        "}\n",
        "\n",
        "df = pd.DataFrame(data)\n"
      ]
    },
    {
      "cell_type": "code",
      "execution_count": null,
      "metadata": {
        "id": "pWbvXwPSq93W"
      },
      "outputs": [],
      "source": [
        "\"\"\"Paso 2: Análisis de Datos\n",
        "2.1. Jugador que más goles efectuó\"\"\"\n",
        "# Jugador con más goles\n",
        "top_scorer = df.loc[df['Goles'].idxmax()]\n",
        "print(\"Jugador con más goles:\")\n",
        "print(top_scorer)\n"
      ]
    },
    {
      "cell_type": "code",
      "execution_count": null,
      "metadata": {
        "id": "waUkF8h9q93X",
        "outputId": "4918d465-405c-4a6c-c3cb-2ce7ac0e2270"
      },
      "outputs": [
        {
          "name": "stdout",
          "output_type": "stream",
          "text": [
            "Tres primeros jugadores por temporada:\n",
            "      Nombre     Apellido        Liga   Salario  Temporada  Goles\n",
            "0     Robert  Lewandowski  Bundesliga  45000000       2022     35\n",
            "1     Lionel        Messi     La Liga  65000000       2022     30\n",
            "2  Cristiano      Ronaldo     Serie A  54000000       2022     28\n"
          ]
        },
        {
          "name": "stderr",
          "output_type": "stream",
          "text": [
            "C:\\Users\\SENA\\AppData\\Local\\Temp\\ipykernel_22160\\2593215405.py:3: DeprecationWarning: DataFrameGroupBy.apply operated on the grouping columns. This behavior is deprecated, and in a future version of pandas the grouping columns will be excluded from the operation. Either pass `include_groups=False` to exclude the groupings or explicitly select the grouping columns after groupby to silence this warning.\n",
            "  top_3_players = df.groupby('Temporada').apply(lambda x: x.nlargest(3, 'Goles')).reset_index(drop=True)\n"
          ]
        }
      ],
      "source": [
        "\"\"\"2.2. Tres primeros jugadores por temporada\"\"\"\n",
        "# Tres jugadores con más goles por temporada\n",
        "top_3_players = df.groupby('Temporada').apply(lambda x: x.nlargest(3, 'Goles')).reset_index(drop=True)\n",
        "print(\"Tres primeros jugadores por temporada:\")\n",
        "print(top_3_players)\n",
        "\n",
        "\n",
        "\"\"\"La advertencia que estás viendo indica que el uso de apply en combinación con groupby\n",
        "está operando en las columnas de agrupación, y esta práctica está siendo desalentada en versiones\n",
        "recientes de pandas. Esta advertencia sugiere que en el futuro, el comportamiento podría cambiar\n",
        "y que es mejor ajustar el código para evitar posibles problemas futuros.\"\"\"\n"
      ]
    },
    {
      "cell_type": "code",
      "execution_count": null,
      "metadata": {
        "id": "op6jEBzqq93a"
      },
      "outputs": [],
      "source": [
        "\"\"\"Paso 3: Visualización de Datos goles por jugador\"\"\"\n",
        "import matplotlib.pyplot as plt\n",
        "\n",
        "plt.figure(figsize=(12, 6))\n",
        "plt.barh(df['Nombre'] + ' ' + df['Apellido'], df['Goles'], color='skyblue', edgecolor='black')\n",
        "plt.xlabel('Goles')\n",
        "plt.ylabel('Jugador')\n",
        "plt.title('Goles por Jugador')\n",
        "plt.grid(axis='x', linestyle='--', alpha=0.7)\n",
        "plt.show()\n"
      ]
    },
    {
      "cell_type": "code",
      "execution_count": null,
      "metadata": {
        "id": "eUWl-QdLq93b",
        "outputId": "bd5eef2b-13e5-4baa-bd2c-3779e06b81bd"
      },
      "outputs": [
        {
          "name": "stderr",
          "output_type": "stream",
          "text": [
            "C:\\Users\\SENA\\AppData\\Local\\Temp\\ipykernel_22160\\962999618.py:5: FutureWarning: \n",
            "\n",
            "Passing `palette` without assigning `hue` is deprecated and will be removed in v0.14.0. Assign the `x` variable to `hue` and set `legend=False` for the same effect.\n",
            "\n",
            "  sns.boxplot(x='Temporada', y='Goles', data=df, palette='pastel')\n"
          ]
        },
        {
          "data": {
            "image/png": "[encoded data removed]",
            "text/plain": [
              "<Figure size 1200x600 with 1 Axes>"
            ]
          },
          "metadata": {},
          "output_type": "display_data"
        }
      ],
      "source": [
        "\"\"\"3.2. Gráfico de distribución de goles por temporada\"\"\"\n",
        "import seaborn as sns\n",
        "\n",
        "plt.figure(figsize=(12, 6))\n",
        "sns.boxplot(x='Temporada', y='Goles', data=df, palette='pastel')\n",
        "plt.xlabel('Temporada')\n",
        "plt.ylabel('Goles')\n",
        "plt.title('Distribución de Goles por Temporada')\n",
        "plt.grid(True)\n",
        "plt.show()\n",
        "\n",
        "\n",
        "\"\"\"La advertencia que estás viendo sugiere que la forma en que estás usando\n",
        "el parámetro palette en sns.boxplot cambiará en una versión futura de seaborn.\n",
        "En versiones futuras (a partir de la 0.14.0), pasar palette sin usar hue será obsoleto.\n",
        "La advertencia te aconseja asignar el parámetro x a hue y desactivar la leyenda si deseas el\n",
        "mismo efecto estético.\"\"\""
      ]
    },
    {
      "cell_type": "code",
      "execution_count": null,
      "metadata": {
        "id": "JOZv9Mc7q93d"
      },
      "outputs": [],
      "source": [
        "\"\"\"3.3. Gráfico de salarios vs. goles\"\"\"\n",
        "plt.figure(figsize=(12, 6))\n",
        "plt.scatter(df['Salario'], df['Goles'], color='green', edgecolor='black', alpha=0.7)\n",
        "plt.xlabel('Salario')\n",
        "plt.ylabel('Goles')\n",
        "plt.title('Relación entre Salario y Goles')\n",
        "plt.grid(True)\n",
        "plt.show()\n"
      ]
    },
    {
      "cell_type": "markdown",
      "metadata": {
        "id": "vY0QiPbNq93e"
      },
      "source": [
        "TRABAJEMOS EN CLASE PARA CONSTRUIR:\n",
        "\n",
        "Jugadores con Mayor Salario\n",
        "Jugadores por Liga\n",
        "Jugadores con Mayor y Menor Salario\n",
        "Goles Totales por Temporada\n",
        "Promedio de Goles por Jugador\n",
        "Goles Maximos y Minimos Por Liga\n",
        "\n",
        "\n",
        "Ahora la cereza del pastel... los graficos\n",
        "\n",
        "Gráfico de Dispersión de Salario vs. Goles Propósito: Analizar la relación entre el salario y el número de goles.\n",
        "Gráfico de Barras de Goles por Liga Propósito: Comparar el número total de goles por cada liga.\n",
        "Gráfico de Torta (Pastel) de Goles por Liga Propósito: Visualizar la proporción de goles en cada liga.\n",
        "Gráfico de Violín de Goles por Liga Propósito: Ver la distribución de los goles en cada liga.\n",
        "Gráfico de Contorno de Goles vs. Salario Propósito: Mostrar la densidad de puntos en el espacio de goles vs. salario.\n",
        "Gráfico de Superficie de Goles vs. Salario por Temporada Propósito: Ver la relación de goles y salario en diferentes temporadas en un gráfico tridimensional.\n"
      ]
    },
    {
      "cell_type": "code",
      "execution_count": null,
      "metadata": {
        "id": "N08UsJbLq93f"
      },
      "outputs": [],
      "source": [
        "\"\"\"Jugadores con Mayor Salario\"\"\"\n",
        "top_salary_players = df.sort_values(by='Salario', ascending=False).reset_index(drop=True)\n",
        "print(\"Jugadores con el mayor salario:\")\n",
        "print(top_salary_players)"
      ]
    }
  ],
  "metadata": {
    "kernelspec": {
      "display_name": "Python 3",
      "language": "python",
      "name": "python3"
    },
    "language_info": {
      "codemirror_mode": {
        "name": "ipython",
        "version": 3
      },
      "file_extension": ".py",
      "mimetype": "text/x-python",
      "name": "python",
      "nbconvert_exporter": "python",
      "pygments_lexer": "ipython3",
      "version": "3.11.9"
    },
    "colab": {
      "provenance": [],
      "include_colab_link": true
    }
  },
  "nbformat": 4,
  "nbformat_minor": 0
}