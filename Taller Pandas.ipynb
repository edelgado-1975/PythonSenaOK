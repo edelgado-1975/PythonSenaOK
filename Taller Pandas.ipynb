{
 "cells": [
  {
   "cell_type": "markdown",
   "metadata": {},
   "source": [
    "#\"En el mundo de los datos, cada desafío es una oportunidad para descubrir un nuevo conocimiento. Cada problema resuelto te acerca un paso más a dominar el arte de transformar datos en decisiones poderosas.\"\n",
    "\n",
    "#Apreciado Aprendiz, Organice el archivo python para realizar su taller en clase\n",
    " importe pandas\n",
    " Opcional: use pd.set_option() para mostrar todas las filas en un dataframe de forma predeterminada\n",
    "\n",
    "1. Crear un dataframe\n",
    " leer el archivo csv \"bestsellers with categorie\" (conjunto de datos sobre los 50 libros más vendidos de Amazon de 2009 a 2019).\n",
    " obtener acceso al atributo de forma\n",
    " encontrar los tipos de datos de cada columna\n",
    "\n",
    "2. Mostrar un dataframe\n",
    " mostrar las primeras 5 filas en un dataframe\n",
    " describir las estadísticas básicas del dataframe (media, desviación estándar, mínimo, máximo)\n",
    "\n",
    "3. Agregar una nueva columna con una matriz\n",
    " Su tarea es crear una columna llamada 'Calificación de la crítica' que debe tener números enteros aleatorios entre 1 y 4\n",
    "\n",
    " 1. importar numpy y crear 550 números enteros aleatorios entre 1 y 4\n",
    " 2. agregar la nueva columna 'Calificación de la crítica' al marco de datos usando los números aleatorios creados\n",
    "\n",
    " Tenga en cuenta que los números aleatorios en esta nueva columna de \"Calificación de la crítica\" serán diferentes entre su solución y la mía, pero en esta sección nos centraremos solo en el código.\n",
    " Mostrar las primeras 5 filas\n",
    "\n",
    "4. Atributos, métodos y funciones básicos\n",
    " obtener acceso al atributo de columnas\n",
    "\n",
    "5. Seleccionar dos o más columnas de un marco de datos\n",
    " mover la nueva columna 'Calificación de los críticos' entre las columnas \"Calificación de los usuarios\" y \"Reseñas\" Luego, actualizar el dataframe\n",
    "\n",
    " Consejo: Copie y pegue los nombres de las columnas obtenidas con el atributo de columnas y luego reorganice los elementos usando [[]]\n",
    " mostrar las primeras 5 filas\n",
    "\n",
    "6. Operaciones en marcos de datos\n",
    " crear una columna denominada \"Calificación promedio\" utilizando la siguiente fórmula: Calificación promedio = (Calificación del usuario + Calificación de la crítica)/2\n",
    " utilizar la función de redondeo para redondear los valores el dataframe a 1 decimal y actualizar el dataframe\n",
    "\n",
    "7. Recuento de valores\n",
    " contar elementos en la columna \"Género\" por categoría y devolver la frecuencia relativa\n",
    "\n",
    "8. Cambiar el nombre de las columnas\n",
    " cambiar el nombre de las columnas \"Calificación del usuario\", \"Calificación de la crítica\" y \"Calificación promedio\" a \"UR\", \"CR\" y \"AR\" y luego actualizar el dataframe con el parámetro incorporado\n",
    " mostrar las primeras 5 filas\n",
    " seleccionar solo las columnas \"Nombre\", \"Autor\", \"UR\", \"CR\", \"AR\" y \"Año\" y actualizar el dataframe\n",
    "\n",
    "9. Ordenar un dataframe\n",
    " ordenar el dataframe en orden descendente por \"UR\" y \"CR\""
   ]
  }
 ],
 "metadata": {
  "kernelspec": {
   "display_name": "Python 3",
   "language": "python",
   "name": "python3"
  },
  "language_info": {
   "name": "python",
   "version": "3.11.9"
  }
 },
 "nbformat": 4,
 "nbformat_minor": 2
}
